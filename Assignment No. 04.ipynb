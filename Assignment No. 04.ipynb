{
 "cells": [
  {
   "cell_type": "code",
   "execution_count": 1,
   "id": "3a0cf0bb",
   "metadata": {},
   "outputs": [
    {
     "name": "stdout",
     "output_type": "stream",
     "text": [
      "Enter First Number:\t1\n",
      "Enter Operator e.g: \"+\" , \"-\" , \"*\" , \"/\" , \"^\" :\t+\n",
      "Enter Second Number:\t2\n",
      "3\n"
     ]
    }
   ],
   "source": [
    "#Q No 1:  Make a calculator using Python with addition , subtraction , multiplication ,division and power.\n",
    "\n",
    "first_value = int(input('Enter First Number:\\t'))\n",
    "operator = input('Enter Operator e.g: \"+\" , \"-\" , \"*\" , \"/\" , \"^\" :\\t')\n",
    "second_value = int(input('Enter Second Number:\\t'))\n",
    "if operator == '+':\n",
    "    print(first_value + second_value)\n",
    "elif operator == '-':\n",
    "    print(first_value - second_value)\n",
    "elif operator == '*':\n",
    "    print(first_value * second_value)\n",
    "elif operator == '/':\n",
    "    print(first_value / second_value)\n",
    "elif operator == '^':\n",
    "    print(first_value ** secondVa)\n",
    "else:\n",
    "    print('Please Choose a Correct operator !')"
   ]
  },
  {
   "cell_type": "code",
   "execution_count": 3,
   "id": "f954b337",
   "metadata": {},
   "outputs": [
    {
     "name": "stdout",
     "output_type": "stream",
     "text": [
      "Numeric Value Found\n"
     ]
    }
   ],
   "source": [
    "#Q No 2: Write a program to check if there is any numeric value in list using for loop.\n",
    "\n",
    "a = ['f','v','s',9,'s','g',4]\n",
    "for d in a:\n",
    "    if type(d) == int:\n",
    "        print('Numeric Value Found')\n",
    "        break"
   ]
  },
  {
   "cell_type": "code",
   "execution_count": 4,
   "id": "ed02fe79",
   "metadata": {},
   "outputs": [
    {
     "name": "stdout",
     "output_type": "stream",
     "text": [
      "{'name': 'Shaban', 'class': 14, 'subject': 'CS', 'University': 'Sir Syed'}\n"
     ]
    }
   ],
   "source": [
    "#Q No 3: Write a Python script to add a key to a dictionary.\n",
    "\n",
    "a = {'name':'Shaban','class':14,'subject':'CS'}\n",
    "a['University'] = 'Sir Syed'\n",
    "\n",
    "print(a)"
   ]
  },
  {
   "cell_type": "code",
   "execution_count": 5,
   "id": "19033cc5",
   "metadata": {},
   "outputs": [
    {
     "name": "stdout",
     "output_type": "stream",
     "text": [
      "92\n"
     ]
    }
   ],
   "source": [
    "# Q No 4: Write a Python program to sum all the numeric items in a dictionary.\n",
    "\n",
    "a = {1:'abc',2:3,3:56,4:'xyz',5:33}\n",
    "add = 0\n",
    "for i in a.values():\n",
    "    if type(i) == int:\n",
    "        add+=i\n",
    "print(add)"
   ]
  },
  {
   "cell_type": "code",
   "execution_count": 6,
   "id": "67bd3ea2",
   "metadata": {},
   "outputs": [
    {
     "name": "stdout",
     "output_type": "stream",
     "text": [
      "2 is duplicated\n"
     ]
    }
   ],
   "source": [
    "#Q No 5 Write a program to identify duplicate values from list.\n",
    "\n",
    "a = ['xyz','shaby','abc','usa',2,45,12,2,'Terabyte']\n",
    "b=[]\n",
    "for i in a:\n",
    "    if i not in b:\n",
    "        b.append(i)\n",
    "    else:\n",
    "        print(str(i) + \" is duplicated\")"
   ]
  },
  {
   "cell_type": "code",
   "execution_count": null,
   "id": "554b5995",
   "metadata": {},
   "outputs": [],
   "source": [
    "#Q No 6: Write a Python script to check if a given key already exists in a dictionary\n",
    "\n",
    "a = {'name':'Shaban','class':14,'sub':'CS',12:23}\n",
    "b = input('Enter key to check whether it is in dictionary or not:\\t')\n",
    "answewr = False\n",
    "for i in a.keys():\n",
    "    if str(i) == b:\n",
    "        answer = True\n",
    "        break\n",
    "    else:\n",
    "        answer = False\n",
    "\n",
    "if answer:\n",
    "    print('Yes '+ b + ' is available in Dict' )\n",
    "else:\n",
    "    print(b + ' is not available in Dict')  "
   ]
  },
  {
   "cell_type": "code",
   "execution_count": null,
   "id": "db1c0c10",
   "metadata": {},
   "outputs": [],
   "source": []
  }
 ],
 "metadata": {
  "kernelspec": {
   "display_name": "Python 3",
   "language": "python",
   "name": "python3"
  },
  "language_info": {
   "codemirror_mode": {
    "name": "ipython",
    "version": 3
   },
   "file_extension": ".py",
   "mimetype": "text/x-python",
   "name": "python",
   "nbconvert_exporter": "python",
   "pygments_lexer": "ipython3",
   "version": "3.8.8"
  }
 },
 "nbformat": 4,
 "nbformat_minor": 5
}
